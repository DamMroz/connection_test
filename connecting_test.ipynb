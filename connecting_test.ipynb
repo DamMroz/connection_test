{
 "cells": [
  {
   "cell_type": "code",
   "execution_count": 19,
   "id": "21903e1b",
   "metadata": {},
   "outputs": [
    {
     "data": {
      "text/html": [
       "        <script type=\"text/javascript\">\n",
       "        window.PlotlyConfig = {MathJaxConfig: 'local'};\n",
       "        if (window.MathJax && window.MathJax.Hub && window.MathJax.Hub.Config) {window.MathJax.Hub.Config({SVG: {font: \"STIX-Web\"}});}\n",
       "        if (typeof require !== 'undefined') {\n",
       "        require.undef(\"plotly\");\n",
       "        requirejs.config({\n",
       "            paths: {\n",
       "                'plotly': ['https://cdn.plot.ly/plotly-2.12.1.min']\n",
       "            }\n",
       "        });\n",
       "        require(['plotly'], function(Plotly) {\n",
       "            window._Plotly = Plotly;\n",
       "        });\n",
       "        }\n",
       "        </script>\n",
       "        "
      ]
     },
     "metadata": {},
     "output_type": "display_data"
    }
   ],
   "source": [
    "from plotly.offline import download_plotlyjs,init_notebook_mode,plot,iplot\n",
    "init_notebook_mode(connected=True)"
   ]
  },
  {
   "cell_type": "code",
   "execution_count": 20,
   "id": "0ad4bb99",
   "metadata": {},
   "outputs": [],
   "source": [
    "import cufflinks as cf"
   ]
  },
  {
   "cell_type": "code",
   "execution_count": 21,
   "id": "2c93156e",
   "metadata": {},
   "outputs": [
    {
     "data": {
      "text/html": [
       "        <script type=\"text/javascript\">\n",
       "        window.PlotlyConfig = {MathJaxConfig: 'local'};\n",
       "        if (window.MathJax && window.MathJax.Hub && window.MathJax.Hub.Config) {window.MathJax.Hub.Config({SVG: {font: \"STIX-Web\"}});}\n",
       "        if (typeof require !== 'undefined') {\n",
       "        require.undef(\"plotly\");\n",
       "        requirejs.config({\n",
       "            paths: {\n",
       "                'plotly': ['https://cdn.plot.ly/plotly-2.12.1.min']\n",
       "            }\n",
       "        });\n",
       "        require(['plotly'], function(Plotly) {\n",
       "            window._Plotly = Plotly;\n",
       "        });\n",
       "        }\n",
       "        </script>\n",
       "        "
      ]
     },
     "metadata": {},
     "output_type": "display_data"
    }
   ],
   "source": [
    "cf.go_offline()"
   ]
  },
  {
   "cell_type": "code",
   "execution_count": 22,
   "id": "805f7803",
   "metadata": {},
   "outputs": [],
   "source": [
    "import dash"
   ]
  },
  {
   "cell_type": "code",
   "execution_count": 23,
   "id": "28f06e88",
   "metadata": {},
   "outputs": [],
   "source": [
    "import pandas as pd\n",
    "import datetime as dt\n",
    "import os\n",
    "import dash\n",
    "from dash import dcc\n",
    "from dash import html\n",
    "from dash.dependencies import Input, Output\n",
    "import dash_auth\n",
    "import plotly.graph_objects as go\n",
    "import tab1\n",
    "import tab2\n",
    "\n",
    "class db:\n",
    "    def __init__(self):\n",
    "        self.transaction = db.transation_init()\n",
    "        self.cc = pd.read_csv(r'db\\country_codes.csv',index_col=0)\n",
    "        self.customers = pd.read_csv(r'db\\customers.csv',index_col=0)\n",
    "        self.prod_info = pd.read_csv(r'db\\prod_cat_info.csv')\n",
    "    @staticmethod\n",
    "    def transation_init():\n",
    "        transactions = pd.DataFrame()\n",
    "        src = r'db\\transactions'\n",
    "        for filename in os.listdir(src):\n",
    "            transactions = pd.concat([transactions,pd.read_csv(os.path.join(src,filename),index_col=0)])\n",
    "\n",
    "        def convert_dates(x):\n",
    "            try:\n",
    "                return dt.datetime.strptime(x,'%d-%m-%Y')\n",
    "            except:\n",
    "                return dt.datetime.strptime(x,'%d/%m/%Y')\n",
    "\n",
    "        transactions['tran_date'] = transactions['tran_date'].apply(lambda x: convert_dates(x))\n",
    "\n",
    "        return transactions\n",
    "        \n",
    "    def merge(self):\n",
    "        df = self.transaction.join(self.prod_info.drop_duplicates(subset=['prod_cat_code'])\n",
    "        .set_index('prod_cat_code')['prod_cat'],on='prod_cat_code',how='left')\n",
    "\n",
    "        df = df.join(self.prod_info.drop_duplicates(subset=['prod_sub_cat_code'])\n",
    "        .set_index('prod_sub_cat_code')['prod_subcat'],on='prod_subcat_code',how='left')\n",
    "\n",
    "        df = df.join(self.customers.join(self.cc,on='country_code')\n",
    "        .set_index('customer_Id'),on='cust_id')\n",
    "\n",
    "        self.merged = df"
   ]
  },
  {
   "cell_type": "code",
   "execution_count": 24,
   "id": "a437d734",
   "metadata": {},
   "outputs": [],
   "source": [
    "\n",
    "\n",
    "df = db()\n",
    "\n",
    "df.merge()\n",
    "\n"
   ]
  },
  {
   "cell_type": "code",
   "execution_count": 25,
   "id": "efbc3566",
   "metadata": {},
   "outputs": [],
   "source": [
    "external_stylesheets = ['https://codepen.io/chriddyp/pen/bWLwgP.css']\n",
    "\n",
    "app = dash.Dash(__name__, external_stylesheets=external_stylesheets,suppress_callback_exceptions=True\n",
    ")"
   ]
  },
  {
   "cell_type": "code",
   "execution_count": 26,
   "id": "6d41c3d3",
   "metadata": {},
   "outputs": [],
   "source": [
    "app.layout = html.Div([],\n",
    "                    style={'height':'100%'})"
   ]
  },
  {
   "cell_type": "code",
   "execution_count": 27,
   "id": "2e5ab568",
   "metadata": {},
   "outputs": [],
   "source": [
    "app.layout = html.Div([html.Div([],style={'width':'80%','margin':'auto'})],\n",
    "                    style={'height':'100%'})"
   ]
  },
  {
   "cell_type": "code",
   "execution_count": 28,
   "id": "98b5c9df",
   "metadata": {},
   "outputs": [
    {
     "data": {
      "text/plain": [
       "[Tabs(children=[Tab(label='Sprzedaż globalna', value='tab-1'), Tab(label='Produkty', value='tab-2')], id='tabs', value='tab-1'),\n",
       " Div(id='tabs-content')]"
      ]
     },
     "execution_count": 28,
     "metadata": {},
     "output_type": "execute_result"
    }
   ],
   "source": [
    "[dcc.Tabs(id='tabs',value='tab-1',children=[\n",
    "                            dcc.Tab(label='Sprzedaż globalna',value='tab-1'),\n",
    "                            dcc.Tab(label='Produkty',value='tab-2')\n",
    "                            ]),\n",
    "                            html.Div(id='tabs-content')]"
   ]
  },
  {
   "cell_type": "code",
   "execution_count": 29,
   "id": "20e9ecb4",
   "metadata": {},
   "outputs": [],
   "source": [
    "app.layout = html.Div([html.Div([dcc.Tabs(id='tabs',value='tab-1',children=[\n",
    "                            dcc.Tab(label='Sprzedaż globalna',value='tab-1'),\n",
    "                            dcc.Tab(label='Produkty',value='tab-2')\n",
    "                            ]),\n",
    "                            html.Div(id='tabs-content')\n",
    "                    ],style={'width':'80%','margin':'auto'})],\n",
    "                    style={'height':'100%'})"
   ]
  },
  {
   "cell_type": "code",
   "execution_count": 30,
   "id": "d112d7d4",
   "metadata": {},
   "outputs": [
    {
     "data": {
      "text/html": [
       "\n",
       "        <iframe\n",
       "            width=\"100%\"\n",
       "            height=\"650\"\n",
       "            src=\"http://127.0.0.1:8050/\"\n",
       "            frameborder=\"0\"\n",
       "            allowfullscreen\n",
       "            \n",
       "        ></iframe>\n",
       "        "
      ],
      "text/plain": [
       "<IPython.lib.display.IFrame at 0x19b6a180a50>"
      ]
     },
     "metadata": {},
     "output_type": "display_data"
    }
   ],
   "source": [
    "if __name__ == '__main__':\n",
    "    app.run(debug=True)"
   ]
  },
  {
   "cell_type": "code",
   "execution_count": 31,
   "id": "16ea893c",
   "metadata": {},
   "outputs": [],
   "source": [
    "def render_tab(df):\n",
    "\n",
    "    layout = html.Div([html.H1(),\n",
    "            html.Div([dcc.DatePickerRange()]),\n",
    "            html.Div([html.Div([dcc.Graph()]),html.Div([dcc.Graph()]\n",
    "            )]\n",
    "            )]\n",
    "            )\n",
    "\n",
    "    return layout"
   ]
  },
  {
   "cell_type": "code",
   "execution_count": 32,
   "id": "d12e83ed",
   "metadata": {},
   "outputs": [
    {
     "data": {
      "text/plain": [
       "H1(children='Sprzedaż globalna', style={'text-align': 'center'})"
      ]
     },
     "execution_count": 32,
     "metadata": {},
     "output_type": "execute_result"
    }
   ],
   "source": [
    "html.H1('Sprzedaż globalna',style={'text-align':'center'})"
   ]
  },
  {
   "cell_type": "code",
   "execution_count": 33,
   "id": "3df5ff46",
   "metadata": {},
   "outputs": [],
   "source": [
    "def render_tab(df):\n",
    "\n",
    "    grouped = df[df['total_amt']>0].groupby('prod_cat')['total_amt'].sum()\n",
    "    fig = go.Figure(data=[go.Pie(labels=grouped.index,values=grouped.values)],layout=go.Layout(title='Udział grup produktów w sprzedaży'))\n",
    "\n",
    "    layout = html.Div([html.H1('Produkty',style={'text-align':'center'}),\n",
    "\n",
    "                        html.Div([html.Div([dcc.Graph(id='pie-prod-cat',figure=fig)],style={'width':'50%'}),\n",
    "                        html.Div([dcc.Dropdown(id='prod_dropdown',\n",
    "                                    options=[{'label':prod_cat,'value':prod_cat} for prod_cat in df['prod_cat'].unique()],\n",
    "                                    value=df['prod_cat'].unique()[0]),\n",
    "                                    dcc.Graph(id='barh-prod-subcat')],style={'width':'50%'})],style={'display':'flex'}),\n",
    "                                    html.Div(id='temp-out')\n",
    "                        ])\n",
    "\n",
    "    return layout"
   ]
  },
  {
   "cell_type": "raw",
   "id": "973fd3ed",
   "metadata": {},
   "source": [
    "@app.callback(Output('tabs-content','children'),[Input('tabs','value')])\n",
    "def render_content(tab):\n",
    "\n",
    "    if tab == 'tab-1':\n",
    "        return tab1.render_tab(df.merged)\n",
    "    elif tab == 'tab-2':\n",
    "        return tab2.render_tab(df.merged)"
   ]
  },
  {
   "cell_type": "code",
   "execution_count": 34,
   "id": "17b996b1",
   "metadata": {},
   "outputs": [],
   "source": [
    "@app.callback(Output('choropleth-sales','figure'),\n",
    "            [Input('sales-range','start_date'),Input('sales-range','end_date')])\n",
    "def tab1_choropleth_sales(start_date,end_date):\n",
    "\n",
    "    truncated = df.merged[(df.merged['tran_date']>=start_date)&(df.merged['tran_date']<=end_date)]\n",
    "    grouped = truncated[truncated['total_amt']>0].groupby('country')['total_amt'].sum().round(2)\n",
    "\n",
    "    trace0 = go.Choropleth(colorscale='Viridis',reversescale=True,\n",
    "                            locations=grouped.index,locationmode='country names',\n",
    "                            z = grouped.values, colorbar=dict(title='Sales'))\n",
    "    data = [trace0]\n",
    "    fig = go.Figure(data=data,layout=go.Layout(title='Mapa',geo=dict(showframe=False,projection={'type':'natural earth'})))\n",
    "\n",
    "    return fig"
   ]
  },
  {
   "cell_type": "code",
   "execution_count": 35,
   "id": "a2b038ff",
   "metadata": {},
   "outputs": [],
   "source": [
    "@app.callback(Output('barh-prod-subcat','figure'),\n",
    "            [Input('prod_dropdown','value')])\n",
    "def tab2_barh_prod_subcat(chosen_cat):\n",
    "\n",
    "    grouped = df.merged[(df.merged['total_amt']>0)&(df.merged['prod_cat']==chosen_cat)].pivot_table(index='prod_subcat',columns='Gender',values='total_amt',aggfunc='sum').assign(_sum=lambda x: x['F']+x['M']).sort_values(by='_sum').round(2)\n",
    "\n",
    "    traces = []\n",
    "    for col in ['F','M']:\n",
    "        traces.append(go.Bar(x=grouped[col],y=grouped.index,orientation='h',name=col))\n",
    "\n",
    "    data = traces\n",
    "    fig = go.Figure(data=data,layout=go.Layout(barmode='stack',margin={'t':20,}))\n",
    "    return fig"
   ]
  },
  {
   "cell_type": "code",
   "execution_count": 36,
   "id": "a11284c1",
   "metadata": {},
   "outputs": [
    {
     "name": "stdout",
     "output_type": "stream",
     "text": [
      "---------------------------------------------------------------------------\n",
      "NoLayoutException                         Traceback (most recent call last)\n",
      "NoLayoutException: The layout was `None` at the time that `run_server` was called.\n",
      "Make sure to set the `layout` attribute of your application\n",
      "before running the server.\n",
      "\n"
     ]
    },
    {
     "ename": "Exception",
     "evalue": "Login Required",
     "output_type": "error",
     "traceback": [
      "\u001b[1;31m---------------------------------------------------------------------------\u001b[0m",
      "\u001b[1;31mException\u001b[0m                                 Traceback (most recent call last)",
      "Cell \u001b[1;32mIn[36], line 12\u001b[0m\n\u001b[0;32m     10\u001b[0m auth \u001b[38;5;241m=\u001b[39m dash_auth\u001b[38;5;241m.\u001b[39mBasicAuth(app,USERNAME_PASSWORD,secret_key\u001b[38;5;241m=\u001b[39m\u001b[38;5;124m\"\u001b[39m\u001b[38;5;124ma\u001b[39m\u001b[38;5;124m\"\u001b[39m)\n\u001b[0;32m     11\u001b[0m \u001b[38;5;28;01mif\u001b[39;00m \u001b[38;5;18m__name__\u001b[39m \u001b[38;5;241m==\u001b[39m \u001b[38;5;124m'\u001b[39m\u001b[38;5;124m__main__\u001b[39m\u001b[38;5;124m'\u001b[39m:\n\u001b[1;32m---> 12\u001b[0m     app\u001b[38;5;241m.\u001b[39mrun(debug\u001b[38;5;241m=\u001b[39m\u001b[38;5;28;01mTrue\u001b[39;00m)\n",
      "File \u001b[1;32m~\\anaconda3\\Lib\\site-packages\\dash\\dash.py:2168\u001b[0m, in \u001b[0;36mDash.run\u001b[1;34m(self, host, port, proxy, debug, jupyter_mode, jupyter_width, jupyter_height, jupyter_server_url, dev_tools_ui, dev_tools_props_check, dev_tools_serve_dev_bundles, dev_tools_hot_reload, dev_tools_hot_reload_interval, dev_tools_hot_reload_watch_interval, dev_tools_hot_reload_max_retry, dev_tools_silence_routes_logging, dev_tools_prune_errors, **flask_run_options)\u001b[0m\n\u001b[0;32m   2165\u001b[0m             extra_files\u001b[38;5;241m.\u001b[39mappend(path)\n\u001b[0;32m   2167\u001b[0m \u001b[38;5;28;01mif\u001b[39;00m jupyter_dash\u001b[38;5;241m.\u001b[39mactive:\n\u001b[1;32m-> 2168\u001b[0m     jupyter_dash\u001b[38;5;241m.\u001b[39mrun_app(\n\u001b[0;32m   2169\u001b[0m         \u001b[38;5;28mself\u001b[39m,\n\u001b[0;32m   2170\u001b[0m         mode\u001b[38;5;241m=\u001b[39mjupyter_mode,\n\u001b[0;32m   2171\u001b[0m         width\u001b[38;5;241m=\u001b[39mjupyter_width,\n\u001b[0;32m   2172\u001b[0m         height\u001b[38;5;241m=\u001b[39mjupyter_height,\n\u001b[0;32m   2173\u001b[0m         host\u001b[38;5;241m=\u001b[39mhost,\n\u001b[0;32m   2174\u001b[0m         port\u001b[38;5;241m=\u001b[39mport,\n\u001b[0;32m   2175\u001b[0m         server_url\u001b[38;5;241m=\u001b[39mjupyter_server_url,\n\u001b[0;32m   2176\u001b[0m     )\n\u001b[0;32m   2177\u001b[0m \u001b[38;5;28;01melse\u001b[39;00m:\n\u001b[0;32m   2178\u001b[0m     \u001b[38;5;28mself\u001b[39m\u001b[38;5;241m.\u001b[39mserver\u001b[38;5;241m.\u001b[39mrun(host\u001b[38;5;241m=\u001b[39mhost, port\u001b[38;5;241m=\u001b[39mport, debug\u001b[38;5;241m=\u001b[39mdebug, \u001b[38;5;241m*\u001b[39m\u001b[38;5;241m*\u001b[39mflask_run_options)\n",
      "File \u001b[1;32m~\\anaconda3\\Lib\\site-packages\\dash\\_jupyter.py:404\u001b[0m, in \u001b[0;36mJupyterDash.run_app\u001b[1;34m(self, app, mode, width, height, host, port, server_url)\u001b[0m\n\u001b[0;32m    402\u001b[0m     display(HTML(msg))\n\u001b[0;32m    403\u001b[0m \u001b[38;5;28;01melse\u001b[39;00m:\n\u001b[1;32m--> 404\u001b[0m     \u001b[38;5;28;01mraise\u001b[39;00m final_error\n",
      "File \u001b[1;32m~\\anaconda3\\Lib\\site-packages\\dash\\_jupyter.py:391\u001b[0m, in \u001b[0;36mJupyterDash.run_app\u001b[1;34m(self, app, mode, width, height, host, port, server_url)\u001b[0m\n\u001b[0;32m    388\u001b[0m         \u001b[38;5;28;01mraise\u001b[39;00m err\n\u001b[0;32m    390\u001b[0m \u001b[38;5;28;01mtry\u001b[39;00m:\n\u001b[1;32m--> 391\u001b[0m     wait_for_app()\n\u001b[0;32m    393\u001b[0m     \u001b[38;5;28;01mif\u001b[39;00m \u001b[38;5;28mself\u001b[39m\u001b[38;5;241m.\u001b[39min_colab:\n\u001b[0;32m    394\u001b[0m         JupyterDash\u001b[38;5;241m.\u001b[39m_display_in_colab(dashboard_url, port, mode, width, height)\n",
      "File \u001b[1;32m~\\anaconda3\\Lib\\site-packages\\retrying.py:49\u001b[0m, in \u001b[0;36mretry.<locals>.wrap.<locals>.wrapped_f\u001b[1;34m(*args, **kw)\u001b[0m\n\u001b[0;32m     47\u001b[0m \u001b[38;5;129m@six\u001b[39m\u001b[38;5;241m.\u001b[39mwraps(f)\n\u001b[0;32m     48\u001b[0m \u001b[38;5;28;01mdef\u001b[39;00m \u001b[38;5;21mwrapped_f\u001b[39m(\u001b[38;5;241m*\u001b[39margs, \u001b[38;5;241m*\u001b[39m\u001b[38;5;241m*\u001b[39mkw):\n\u001b[1;32m---> 49\u001b[0m     \u001b[38;5;28;01mreturn\u001b[39;00m Retrying(\u001b[38;5;241m*\u001b[39mdargs, \u001b[38;5;241m*\u001b[39m\u001b[38;5;241m*\u001b[39mdkw)\u001b[38;5;241m.\u001b[39mcall(f, \u001b[38;5;241m*\u001b[39margs, \u001b[38;5;241m*\u001b[39m\u001b[38;5;241m*\u001b[39mkw)\n",
      "File \u001b[1;32m~\\anaconda3\\Lib\\site-packages\\retrying.py:212\u001b[0m, in \u001b[0;36mRetrying.call\u001b[1;34m(self, fn, *args, **kwargs)\u001b[0m\n\u001b[0;32m    209\u001b[0m \u001b[38;5;28;01mif\u001b[39;00m \u001b[38;5;28mself\u001b[39m\u001b[38;5;241m.\u001b[39mstop(attempt_number, delay_since_first_attempt_ms):\n\u001b[0;32m    210\u001b[0m     \u001b[38;5;28;01mif\u001b[39;00m \u001b[38;5;129;01mnot\u001b[39;00m \u001b[38;5;28mself\u001b[39m\u001b[38;5;241m.\u001b[39m_wrap_exception \u001b[38;5;129;01mand\u001b[39;00m attempt\u001b[38;5;241m.\u001b[39mhas_exception:\n\u001b[0;32m    211\u001b[0m         \u001b[38;5;66;03m# get() on an attempt with an exception should cause it to be raised, but raise just in case\u001b[39;00m\n\u001b[1;32m--> 212\u001b[0m         \u001b[38;5;28;01mraise\u001b[39;00m attempt\u001b[38;5;241m.\u001b[39mget()\n\u001b[0;32m    213\u001b[0m     \u001b[38;5;28;01melse\u001b[39;00m:\n\u001b[0;32m    214\u001b[0m         \u001b[38;5;28;01mraise\u001b[39;00m RetryError(attempt)\n",
      "File \u001b[1;32m~\\anaconda3\\Lib\\site-packages\\retrying.py:247\u001b[0m, in \u001b[0;36mAttempt.get\u001b[1;34m(self, wrap_exception)\u001b[0m\n\u001b[0;32m    245\u001b[0m         \u001b[38;5;28;01mraise\u001b[39;00m RetryError(\u001b[38;5;28mself\u001b[39m)\n\u001b[0;32m    246\u001b[0m     \u001b[38;5;28;01melse\u001b[39;00m:\n\u001b[1;32m--> 247\u001b[0m         six\u001b[38;5;241m.\u001b[39mreraise(\u001b[38;5;28mself\u001b[39m\u001b[38;5;241m.\u001b[39mvalue[\u001b[38;5;241m0\u001b[39m], \u001b[38;5;28mself\u001b[39m\u001b[38;5;241m.\u001b[39mvalue[\u001b[38;5;241m1\u001b[39m], \u001b[38;5;28mself\u001b[39m\u001b[38;5;241m.\u001b[39mvalue[\u001b[38;5;241m2\u001b[39m])\n\u001b[0;32m    248\u001b[0m \u001b[38;5;28;01melse\u001b[39;00m:\n\u001b[0;32m    249\u001b[0m     \u001b[38;5;28;01mreturn\u001b[39;00m \u001b[38;5;28mself\u001b[39m\u001b[38;5;241m.\u001b[39mvalue\n",
      "File \u001b[1;32m~\\anaconda3\\Lib\\site-packages\\six.py:719\u001b[0m, in \u001b[0;36mreraise\u001b[1;34m(tp, value, tb)\u001b[0m\n\u001b[0;32m    717\u001b[0m     \u001b[38;5;28;01mif\u001b[39;00m value\u001b[38;5;241m.\u001b[39m__traceback__ \u001b[38;5;129;01mis\u001b[39;00m \u001b[38;5;129;01mnot\u001b[39;00m tb:\n\u001b[0;32m    718\u001b[0m         \u001b[38;5;28;01mraise\u001b[39;00m value\u001b[38;5;241m.\u001b[39mwith_traceback(tb)\n\u001b[1;32m--> 719\u001b[0m     \u001b[38;5;28;01mraise\u001b[39;00m value\n\u001b[0;32m    720\u001b[0m \u001b[38;5;28;01mfinally\u001b[39;00m:\n\u001b[0;32m    721\u001b[0m     value \u001b[38;5;241m=\u001b[39m \u001b[38;5;28;01mNone\u001b[39;00m\n",
      "File \u001b[1;32m~\\anaconda3\\Lib\\site-packages\\retrying.py:200\u001b[0m, in \u001b[0;36mRetrying.call\u001b[1;34m(self, fn, *args, **kwargs)\u001b[0m\n\u001b[0;32m    198\u001b[0m \u001b[38;5;28;01mwhile\u001b[39;00m \u001b[38;5;28;01mTrue\u001b[39;00m:\n\u001b[0;32m    199\u001b[0m     \u001b[38;5;28;01mtry\u001b[39;00m:\n\u001b[1;32m--> 200\u001b[0m         attempt \u001b[38;5;241m=\u001b[39m Attempt(fn(\u001b[38;5;241m*\u001b[39margs, \u001b[38;5;241m*\u001b[39m\u001b[38;5;241m*\u001b[39mkwargs), attempt_number, \u001b[38;5;28;01mFalse\u001b[39;00m)\n\u001b[0;32m    201\u001b[0m     \u001b[38;5;28;01mexcept\u001b[39;00m:\n\u001b[0;32m    202\u001b[0m         tb \u001b[38;5;241m=\u001b[39m sys\u001b[38;5;241m.\u001b[39mexc_info()\n",
      "File \u001b[1;32m~\\anaconda3\\Lib\\site-packages\\dash\\_jupyter.py:378\u001b[0m, in \u001b[0;36mJupyterDash.run_app.<locals>.wait_for_app\u001b[1;34m()\u001b[0m\n\u001b[0;32m    376\u001b[0m res \u001b[38;5;241m=\u001b[39m req\u001b[38;5;241m.\u001b[39mcontent\u001b[38;5;241m.\u001b[39mdecode()\n\u001b[0;32m    377\u001b[0m \u001b[38;5;28;01mif\u001b[39;00m req\u001b[38;5;241m.\u001b[39mstatus_code \u001b[38;5;241m!=\u001b[39m \u001b[38;5;241m200\u001b[39m:\n\u001b[1;32m--> 378\u001b[0m     \u001b[38;5;28;01mraise\u001b[39;00m \u001b[38;5;167;01mException\u001b[39;00m(res)\n\u001b[0;32m    380\u001b[0m \u001b[38;5;28;01mif\u001b[39;00m res \u001b[38;5;241m!=\u001b[39m \u001b[38;5;124m\"\u001b[39m\u001b[38;5;124mAlive\u001b[39m\u001b[38;5;124m\"\u001b[39m:\n\u001b[0;32m    381\u001b[0m     url \u001b[38;5;241m=\u001b[39m \u001b[38;5;124mf\u001b[39m\u001b[38;5;124m\"\u001b[39m\u001b[38;5;124mhttp://\u001b[39m\u001b[38;5;132;01m{\u001b[39;00mhost\u001b[38;5;132;01m}\u001b[39;00m\u001b[38;5;124m:\u001b[39m\u001b[38;5;132;01m{\u001b[39;00mport\u001b[38;5;132;01m}\u001b[39;00m\u001b[38;5;124m\"\u001b[39m\n",
      "\u001b[1;31mException\u001b[0m: Login Required"
     ]
    }
   ],
   "source": [
    "external_stylesheets = ['https://codepen.io/chriddyp/pen/bWLwgP.css']\n",
    "\n",
    "\n",
    "\n",
    "\n",
    "USERNAME_PASSWORD = [['user','pass']]\n",
    "\n",
    "app = dash.Dash(__name__, external_stylesheets=external_stylesheets)\n",
    "\n",
    "auth = dash_auth.BasicAuth(app,USERNAME_PASSWORD,secret_key=\"a\")\n",
    "if __name__ == '__main__':\n",
    "    app.run(debug=True)\n"
   ]
  }
 ],
 "metadata": {
  "kernelspec": {
   "display_name": "Python 3 (ipykernel)",
   "language": "python",
   "name": "python3"
  },
  "language_info": {
   "codemirror_mode": {
    "name": "ipython",
    "version": 3
   },
   "file_extension": ".py",
   "mimetype": "text/x-python",
   "name": "python",
   "nbconvert_exporter": "python",
   "pygments_lexer": "ipython3",
   "version": "3.11.7"
  }
 },
 "nbformat": 4,
 "nbformat_minor": 5
}
